{
 "cells": [
  {
   "cell_type": "markdown",
   "id": "0cdebad7",
   "metadata": {
    "ExecuteTime": {
     "end_time": "2022-12-16T07:15:59.444104Z",
     "start_time": "2022-12-16T07:15:59.437257Z"
    }
   },
   "source": [
    "# SET 1 "
   ]
  },
  {
   "cell_type": "markdown",
   "id": "7d8cacdd",
   "metadata": {},
   "source": [
    "# 1"
   ]
  },
  {
   "cell_type": "code",
   "execution_count": null,
   "id": "4b9445fe",
   "metadata": {},
   "outputs": [],
   "source": [
    "import pandas as pd \n",
    "import matplotlib.pyplot as plt"
   ]
  },
  {
   "cell_type": "code",
   "execution_count": 4,
   "id": "671553fb",
   "metadata": {
    "ExecuteTime": {
     "end_time": "2022-12-16T07:12:19.934550Z",
     "start_time": "2022-12-16T07:12:19.910180Z"
    }
   },
   "outputs": [],
   "source": [
    "df1=pd.read_csv('q1.csv') "
   ]
  },
  {
   "cell_type": "code",
   "execution_count": 5,
   "id": "758e6a9b",
   "metadata": {
    "ExecuteTime": {
     "end_time": "2022-12-16T07:12:22.294444Z",
     "start_time": "2022-12-16T07:12:22.274029Z"
    }
   },
   "outputs": [
    {
     "data": {
      "text/html": [
       "<div>\n",
       "<style scoped>\n",
       "    .dataframe tbody tr th:only-of-type {\n",
       "        vertical-align: middle;\n",
       "    }\n",
       "\n",
       "    .dataframe tbody tr th {\n",
       "        vertical-align: top;\n",
       "    }\n",
       "\n",
       "    .dataframe thead th {\n",
       "        text-align: right;\n",
       "    }\n",
       "</style>\n",
       "<table border=\"1\" class=\"dataframe\">\n",
       "  <thead>\n",
       "    <tr style=\"text-align: right;\">\n",
       "      <th></th>\n",
       "      <th>Name of company</th>\n",
       "      <th>Measure X</th>\n",
       "    </tr>\n",
       "  </thead>\n",
       "  <tbody>\n",
       "    <tr>\n",
       "      <th>0</th>\n",
       "      <td>Allied Signal</td>\n",
       "      <td>24.23</td>\n",
       "    </tr>\n",
       "    <tr>\n",
       "      <th>1</th>\n",
       "      <td>Bankers Trust</td>\n",
       "      <td>25.53</td>\n",
       "    </tr>\n",
       "    <tr>\n",
       "      <th>2</th>\n",
       "      <td>General Mills</td>\n",
       "      <td>25.41</td>\n",
       "    </tr>\n",
       "    <tr>\n",
       "      <th>3</th>\n",
       "      <td>ITT Industries</td>\n",
       "      <td>24.14</td>\n",
       "    </tr>\n",
       "    <tr>\n",
       "      <th>4</th>\n",
       "      <td>JPMorgan &amp; Co.</td>\n",
       "      <td>29.62</td>\n",
       "    </tr>\n",
       "  </tbody>\n",
       "</table>\n",
       "</div>"
      ],
      "text/plain": [
       "  Name of company  Measure X\n",
       "0   Allied Signal      24.23\n",
       "1   Bankers Trust      25.53\n",
       "2   General Mills      25.41\n",
       "3  ITT Industries      24.14\n",
       "4  JPMorgan & Co.      29.62"
      ]
     },
     "execution_count": 5,
     "metadata": {},
     "output_type": "execute_result"
    }
   ],
   "source": [
    "df1.head()"
   ]
  },
  {
   "cell_type": "code",
   "execution_count": 6,
   "id": "4c936915",
   "metadata": {
    "ExecuteTime": {
     "end_time": "2022-12-16T07:12:55.033668Z",
     "start_time": "2022-12-16T07:12:54.881931Z"
    }
   },
   "outputs": [
    {
     "data": {
      "text/plain": [
       "count    15.000000\n",
       "mean     33.271333\n",
       "std      16.945401\n",
       "min      24.140000\n",
       "25%      25.470000\n",
       "50%      26.710000\n",
       "75%      33.975000\n",
       "max      91.360000\n",
       "Name: Measure X, dtype: float64"
      ]
     },
     "execution_count": 6,
     "metadata": {},
     "output_type": "execute_result"
    }
   ],
   "source": [
    "df1['Measure X'].describe()"
   ]
  },
  {
   "cell_type": "code",
   "execution_count": 7,
   "id": "d0f3179b",
   "metadata": {
    "ExecuteTime": {
     "end_time": "2022-12-16T07:13:16.831051Z",
     "start_time": "2022-12-16T07:13:16.811046Z"
    }
   },
   "outputs": [
    {
     "data": {
      "text/plain": [
       "287.1466123809524"
      ]
     },
     "execution_count": 7,
     "metadata": {},
     "output_type": "execute_result"
    }
   ],
   "source": [
    "df1['Measure X'].var()"
   ]
  },
  {
   "cell_type": "code",
   "execution_count": 8,
   "id": "c90b0a49",
   "metadata": {
    "ExecuteTime": {
     "end_time": "2022-12-16T07:15:10.391659Z",
     "start_time": "2022-12-16T07:15:10.041579Z"
    }
   },
   "outputs": [
    {
     "data": {
      "image/png": "[encoded data removed]",
      "text/plain": [
       "<Figure size 640x480 with 1 Axes>"
      ]
     },
     "metadata": {},
     "output_type": "display_data"
    }
   ],
   "source": [
    "plt.boxplot(df1['Measure X'], vert = True)\n",
    "\n",
    "plt.show()   "
   ]
  },
  {
   "cell_type": "code",
   "execution_count": 10,
   "id": "eeaf8116",
   "metadata": {
    "ExecuteTime": {
     "end_time": "2022-12-16T07:16:51.210195Z",
     "start_time": "2022-12-16T07:16:50.960605Z"
    }
   },
   "outputs": [
    {
     "data": {
      "text/plain": [
       "(array([10.,  2.,  2.,  0.,  0.,  0.,  0.,  0.,  0.,  1.]),\n",
       " array([24.14 , 30.862, 37.584, 44.306, 51.028, 57.75 , 64.472, 71.194,\n",
       "        77.916, 84.638, 91.36 ]),\n",
       " <BarContainer object of 10 artists>)"
      ]
     },
     "execution_count": 10,
     "metadata": {},
     "output_type": "execute_result"
    },
    {
     "data": {
      "image/png": "[encoded data removed]",
      "text/plain": [
       "<Figure size 640x480 with 1 Axes>"
      ]
     },
     "metadata": {},
     "output_type": "display_data"
    }
   ],
   "source": [
    "plt.hist(df1['Measure X'])"
   ]
  },
  {
   "cell_type": "markdown",
   "id": "ae6c831e",
   "metadata": {},
   "source": [
    "# 4"
   ]
  },
  {
   "cell_type": "code",
   "execution_count": 2,
   "id": "f3ac6a58",
   "metadata": {
    "ExecuteTime": {
     "end_time": "2022-12-20T06:28:44.284772Z",
     "start_time": "2022-12-20T06:28:44.270971Z"
    }
   },
   "outputs": [
    {
     "data": {
      "text/plain": [
       "0.02475124687812502"
      ]
     },
     "execution_count": 2,
     "metadata": {},
     "output_type": "execute_result"
    }
   ],
   "source": [
    "# we took p as 1/200 ( as we want no of calls rejected )\n",
    "from scipy.stats import binom\n",
    "bi=binom(5,0.005) ## n,p  we need P(x>=1) = 1- P(x<1)\n",
    "1-bi.cdf(0) ###########  "
   ]
  },
  {
   "cell_type": "code",
   "execution_count": 13,
   "id": "bdb5a637",
   "metadata": {
    "ExecuteTime": {
     "end_time": "2022-12-23T14:41:36.482459Z",
     "start_time": "2022-12-23T14:41:36.471488Z"
    }
   },
   "outputs": [],
   "source": [
    "# so the probability is 2.4% "
   ]
  },
  {
   "cell_type": "markdown",
   "id": "bf50dbd9",
   "metadata": {},
   "source": [
    "#--------------------------------------------------------"
   ]
  },
  {
   "cell_type": "markdown",
   "id": "bdf35bae",
   "metadata": {},
   "source": [
    "# set 2 "
   ]
  },
  {
   "cell_type": "markdown",
   "id": "b8d1382f",
   "metadata": {},
   "source": [
    "# 1"
   ]
  },
  {
   "cell_type": "code",
   "execution_count": null,
   "id": "b74fd9f1",
   "metadata": {},
   "outputs": [],
   "source": [
    "# 1.\tThe time required for servicing transmissions is normally distributed with mean  = 45 minutes and sd = 8 minutes.\n",
    "# The service manager plans to have work begin on the transmission of a customer’s car 10 minutes after the car is \n",
    "# dropped off and the customer is told that the car will be ready within 1 hour from drop-off. What is the probability\n",
    "# that the service manager cannot meet his commitment? "
   ]
  },
  {
   "cell_type": "markdown",
   "id": "bfdc087f",
   "metadata": {},
   "source": [
    "# mean = 45 , sd=8 .... target time is 60 min , work starts after 10 min so we should take target time 50 min"
   ]
  },
  {
   "cell_type": "code",
   "execution_count": 1,
   "id": "2b426ff5",
   "metadata": {
    "ExecuteTime": {
     "end_time": "2022-12-22T05:45:33.731050Z",
     "start_time": "2022-12-22T05:45:32.751179Z"
    }
   },
   "outputs": [],
   "source": [
    "from scipy.stats import norm \n",
    "nd=norm(45,8) # mean, sd"
   ]
  },
  {
   "cell_type": "code",
   "execution_count": 7,
   "id": "bd5e2ac9",
   "metadata": {
    "ExecuteTime": {
     "end_time": "2022-12-22T05:47:30.674016Z",
     "start_time": "2022-12-22T05:47:30.664986Z"
    }
   },
   "outputs": [
    {
     "data": {
      "text/plain": [
       "0.26598552904870054"
      ]
     },
     "execution_count": 7,
     "metadata": {},
     "output_type": "execute_result"
    }
   ],
   "source": [
    "1-nd.cdf(50)"
   ]
  },
  {
   "cell_type": "markdown",
   "id": "b8bfa774",
   "metadata": {},
   "source": [
    "# 2"
   ]
  },
  {
   "cell_type": "code",
   "execution_count": null,
   "id": "9c4bdd03",
   "metadata": {},
   "outputs": [],
   "source": [
    "# 2.\tThe current age (in years) of 400 clerical employees at an insurance claims processing center \n",
    "# is normally distributed with mean = 38 and Standard deviation  =6.\n",
    "# For each statement below, please specify True/False. If false, briefly explain why."
   ]
  },
  {
   "cell_type": "code",
   "execution_count": 8,
   "id": "8e20d7b1",
   "metadata": {
    "ExecuteTime": {
     "end_time": "2022-12-22T05:51:25.442605Z",
     "start_time": "2022-12-22T05:51:25.430252Z"
    }
   },
   "outputs": [],
   "source": [
    " # A \n",
    "    # A.\tMore employees at the processing center are older than 44 than between 38 and 44."
   ]
  },
  {
   "cell_type": "code",
   "execution_count": 9,
   "id": "0093ef68",
   "metadata": {
    "ExecuteTime": {
     "end_time": "2022-12-22T05:52:08.607638Z",
     "start_time": "2022-12-22T05:52:08.592411Z"
    }
   },
   "outputs": [],
   "source": [
    "from scipy.stats import norm \n",
    "nd=norm(38,6) "
   ]
  },
  {
   "cell_type": "code",
   "execution_count": 10,
   "id": "b83d7dec",
   "metadata": {
    "ExecuteTime": {
     "end_time": "2022-12-22T05:52:37.157112Z",
     "start_time": "2022-12-22T05:52:37.140085Z"
    }
   },
   "outputs": [
    {
     "data": {
      "text/plain": [
       "0.15865525393145707"
      ]
     },
     "execution_count": 10,
     "metadata": {},
     "output_type": "execute_result"
    }
   ],
   "source": [
    "#  people older than 44\n",
    "1-nd.cdf(44)"
   ]
  },
  {
   "cell_type": "code",
   "execution_count": 11,
   "id": "a462cd44",
   "metadata": {
    "ExecuteTime": {
     "end_time": "2022-12-22T05:53:08.493116Z",
     "start_time": "2022-12-22T05:53:08.470006Z"
    }
   },
   "outputs": [
    {
     "data": {
      "text/plain": [
       "0.3413447460685429"
      ]
     },
     "execution_count": 11,
     "metadata": {},
     "output_type": "execute_result"
    }
   ],
   "source": [
    "# between 44 & 38\n",
    "nd.cdf(44)-nd.cdf(38) "
   ]
  },
  {
   "cell_type": "markdown",
   "id": "67ee4d06",
   "metadata": {},
   "source": [
    "# False . As the probability of people between age 38 & 44 is more than probability of people older than 44"
   ]
  },
  {
   "cell_type": "markdown",
   "id": "3d6821e8",
   "metadata": {},
   "source": [
    "# 2 B "
   ]
  },
  {
   "cell_type": "code",
   "execution_count": 12,
   "id": "ae952bb7",
   "metadata": {
    "ExecuteTime": {
     "end_time": "2022-12-22T06:01:08.038775Z",
     "start_time": "2022-12-22T06:01:08.024278Z"
    }
   },
   "outputs": [],
   "source": [
    "# B.\tA training program for employees under the age of 30 at the center would be expected to attract about 36 employees."
   ]
  },
  {
   "cell_type": "code",
   "execution_count": 13,
   "id": "d8cc6494",
   "metadata": {
    "ExecuteTime": {
     "end_time": "2022-12-22T06:02:27.291589Z",
     "start_time": "2022-12-22T06:02:27.277221Z"
    }
   },
   "outputs": [],
   "source": [
    "# for age under 30\n",
    "y=nd.cdf(30)"
   ]
  },
  {
   "cell_type": "code",
   "execution_count": 14,
   "id": "687a7741",
   "metadata": {
    "ExecuteTime": {
     "end_time": "2022-12-22T06:02:31.705365Z",
     "start_time": "2022-12-22T06:02:31.688420Z"
    }
   },
   "outputs": [
    {
     "data": {
      "text/plain": [
       "0.09121121972586788"
      ]
     },
     "execution_count": 14,
     "metadata": {},
     "output_type": "execute_result"
    }
   ],
   "source": [
    "y"
   ]
  },
  {
   "cell_type": "code",
   "execution_count": 15,
   "id": "18377ebb",
   "metadata": {
    "ExecuteTime": {
     "end_time": "2022-12-22T06:03:58.967601Z",
     "start_time": "2022-12-22T06:03:58.948794Z"
    }
   },
   "outputs": [
    {
     "data": {
      "text/plain": [
       "36.484487890347154"
      ]
     },
     "execution_count": 15,
     "metadata": {},
     "output_type": "execute_result"
    }
   ],
   "source": [
    "# no of employees = y* total no of employees\n",
    "y*400"
   ]
  },
  {
   "cell_type": "markdown",
   "id": "1a249523",
   "metadata": {},
   "source": [
    "# True  ( as we got 36) "
   ]
  },
  {
   "cell_type": "markdown",
   "id": "fbd7944f",
   "metadata": {},
   "source": [
    "# 4 "
   ]
  },
  {
   "cell_type": "markdown",
   "id": "8f1fdd76",
   "metadata": {},
   "source": [
    "# 4.\tLet X ~ N(100, 202). Find two values, a and b, symmetric about the mean, such that the probability of the random variable taking a value between them is 0.99. \n",
    "\n"
   ]
  },
  {
   "cell_type": "code",
   "execution_count": 19,
   "id": "95297211",
   "metadata": {
    "ExecuteTime": {
     "end_time": "2022-12-22T06:40:19.926757Z",
     "start_time": "2022-12-22T06:40:19.921338Z"
    }
   },
   "outputs": [],
   "source": [
    "from scipy import stats\n",
    "from scipy.stats import norm"
   ]
  },
  {
   "cell_type": "code",
   "execution_count": 20,
   "id": "8ff34065",
   "metadata": {
    "ExecuteTime": {
     "end_time": "2022-12-22T06:40:22.852133Z",
     "start_time": "2022-12-22T06:40:22.834578Z"
    }
   },
   "outputs": [
    {
     "data": {
      "text/plain": [
       "(48.48341392902199, 151.516586070978)"
      ]
     },
     "execution_count": 20,
     "metadata": {},
     "output_type": "execute_result"
    }
   ],
   "source": [
    "# p =99 mean = 100, sd=20\n",
    "stats.norm.interval(0.99,100,20)"
   ]
  },
  {
   "cell_type": "markdown",
   "id": "a9dc33c0",
   "metadata": {},
   "source": [
    "# so range is  (48.48341392902199, 151.516586070978) "
   ]
  },
  {
   "cell_type": "markdown",
   "id": "aa915acc",
   "metadata": {},
   "source": [
    "# 5"
   ]
  },
  {
   "cell_type": "code",
   "execution_count": null,
   "id": "63076a46",
   "metadata": {},
   "outputs": [],
   "source": [
    "# 5.\tConsider a company that has two different divisions. \n",
    "# The annual profits from the two divisions are independent and\n",
    "# have distributions Profit1 ~ N(5, 3^2) and Profit2 ~ N(7, 4^2) respectively. Both the profits are in $ Million.\n",
    "# Answer the following questions about the total profit of the company in Rupees. Assume that $1 = Rs. 45"
   ]
  },
  {
   "cell_type": "code",
   "execution_count": null,
   "id": "746cff63",
   "metadata": {},
   "outputs": [],
   "source": [
    " # Profit1 ~ N(5, 3^2) and Profit2 ~ N(7, 4^2)  if we combine both we get N(5+7, 9+16)\n",
    "    # N(12, 5^2"
   ]
  },
  {
   "cell_type": "markdown",
   "id": "135b06eb",
   "metadata": {},
   "source": [
    "# so mean =12 & sd = 5\n",
    "# as we are convering it into rupees , new mean = 12*45 , new sd = 5*45"
   ]
  },
  {
   "cell_type": "code",
   "execution_count": 1,
   "id": "053a818d",
   "metadata": {
    "ExecuteTime": {
     "end_time": "2022-12-23T14:03:12.250622Z",
     "start_time": "2022-12-23T14:03:12.207966Z"
    }
   },
   "outputs": [
    {
     "data": {
      "text/plain": [
       "540"
      ]
     },
     "execution_count": 1,
     "metadata": {},
     "output_type": "execute_result"
    }
   ],
   "source": [
    "# mean \n",
    "12*45 "
   ]
  },
  {
   "cell_type": "code",
   "execution_count": 2,
   "id": "7b2dd1ff",
   "metadata": {
    "ExecuteTime": {
     "end_time": "2022-12-23T14:03:33.630463Z",
     "start_time": "2022-12-23T14:03:33.623945Z"
    }
   },
   "outputs": [
    {
     "data": {
      "text/plain": [
       "225"
      ]
     },
     "execution_count": 2,
     "metadata": {},
     "output_type": "execute_result"
    }
   ],
   "source": [
    "# sd\n",
    "5*45"
   ]
  },
  {
   "cell_type": "markdown",
   "id": "142bd910",
   "metadata": {},
   "source": [
    "# 5 a  A.\tSpecify a Rupee range (centered on the mean) such that it contains 95% probability for the annual profit of the company."
   ]
  },
  {
   "cell_type": "code",
   "execution_count": 3,
   "id": "c5e0ae53",
   "metadata": {
    "ExecuteTime": {
     "end_time": "2022-12-23T14:06:08.003110Z",
     "start_time": "2022-12-23T14:06:07.990257Z"
    }
   },
   "outputs": [],
   "source": [
    "from scipy import stats\n",
    "from scipy.stats import norm"
   ]
  },
  {
   "cell_type": "code",
   "execution_count": 4,
   "id": "7a13dcfb",
   "metadata": {
    "ExecuteTime": {
     "end_time": "2022-12-23T14:06:23.236083Z",
     "start_time": "2022-12-23T14:06:23.208926Z"
    }
   },
   "outputs": [
    {
     "data": {
      "text/plain": [
       "(99.00810347848784, 980.9918965215122)"
      ]
     },
     "execution_count": 4,
     "metadata": {},
     "output_type": "execute_result"
    }
   ],
   "source": [
    "stats.norm.interval(0.95,540,225)"
   ]
  },
  {
   "cell_type": "markdown",
   "id": "71bf7829",
   "metadata": {},
   "source": [
    "# so range in rupees is (99.00810347848784, 980.9918965215122)"
   ]
  },
  {
   "cell_type": "code",
   "execution_count": null,
   "id": "37d4a2ec",
   "metadata": {},
   "outputs": [],
   "source": []
  },
  {
   "cell_type": "markdown",
   "id": "97d95c8f",
   "metadata": {},
   "source": [
    " # 5 B)  Specify the 5th percentile of profit (in Rupees) for the company"
   ]
  },
  {
   "cell_type": "markdown",
   "id": "f8ccc945",
   "metadata": {},
   "source": [
    "# Percentile Value = μ + zσ\n",
    "# z=-1.645 for 5th percentile"
   ]
  },
  {
   "cell_type": "code",
   "execution_count": 8,
   "id": "4ee55e0a",
   "metadata": {
    "ExecuteTime": {
     "end_time": "2022-12-23T14:14:32.844938Z",
     "start_time": "2022-12-23T14:14:32.823336Z"
    }
   },
   "outputs": [
    {
     "data": {
      "text/plain": [
       "169.875"
      ]
     },
     "execution_count": 8,
     "metadata": {},
     "output_type": "execute_result"
    }
   ],
   "source": [
    "# percentile \n",
    "540+(-1.645*225) "
   ]
  },
  {
   "cell_type": "markdown",
   "id": "612842a9",
   "metadata": {},
   "source": [
    "# 5th percentile value is 169.875 million"
   ]
  },
  {
   "cell_type": "markdown",
   "id": "cf1500b6",
   "metadata": {
    "ExecuteTime": {
     "end_time": "2022-12-23T14:36:30.606662Z",
     "start_time": "2022-12-23T14:36:30.588671Z"
    }
   },
   "source": [
    "# 5 .c C.\tWhich of the two divisions has a larger probability of making a loss in a given year?"
   ]
  },
  {
   "cell_type": "code",
   "execution_count": 10,
   "id": "4caf1884",
   "metadata": {
    "ExecuteTime": {
     "end_time": "2022-12-23T14:38:12.452644Z",
     "start_time": "2022-12-23T14:38:12.440681Z"
    }
   },
   "outputs": [],
   "source": [
    "# if we find probability of respective with 0 as we are looking for loss"
   ]
  },
  {
   "cell_type": "code",
   "execution_count": 11,
   "id": "90636f8c",
   "metadata": {
    "ExecuteTime": {
     "end_time": "2022-12-23T14:38:36.681064Z",
     "start_time": "2022-12-23T14:38:36.662078Z"
    }
   },
   "outputs": [
    {
     "data": {
      "text/plain": [
       "0.0477903522728147"
      ]
     },
     "execution_count": 11,
     "metadata": {},
     "output_type": "execute_result"
    }
   ],
   "source": [
    "# a \n",
    "stats.norm.cdf(0,5,3)"
   ]
  },
  {
   "cell_type": "code",
   "execution_count": 12,
   "id": "1b842791",
   "metadata": {
    "ExecuteTime": {
     "end_time": "2022-12-23T14:39:19.472918Z",
     "start_time": "2022-12-23T14:39:19.452969Z"
    }
   },
   "outputs": [
    {
     "data": {
      "text/plain": [
       "0.040059156863817086"
      ]
     },
     "execution_count": 12,
     "metadata": {},
     "output_type": "execute_result"
    }
   ],
   "source": [
    "#b\n",
    "stats.norm.cdf(0,7,4)"
   ]
  },
  {
   "cell_type": "markdown",
   "id": "85c9e04e",
   "metadata": {},
   "source": [
    "# the division with  N(7, 4^2) has more probability of making a loss in a given year"
   ]
  },
  {
   "cell_type": "markdown",
   "id": "5d479fa1",
   "metadata": {},
   "source": [
    "# ------------------------------------------------------"
   ]
  },
  {
   "cell_type": "markdown",
   "id": "7f66f427",
   "metadata": {},
   "source": [
    "# set 3 "
   ]
  },
  {
   "cell_type": "markdown",
   "id": "3e07d078",
   "metadata": {},
   "source": [
    "# 8 "
   ]
  },
  {
   "cell_type": "markdown",
   "id": "7ad35e40",
   "metadata": {},
   "source": [
    "  # N=  z^2 (p * 1-p ) / E^2  \n",
    " #  Z – z score for 95 % \n",
    "# P is not given , so default value is 0.5 \n",
    "# E is margin of error  = 0.04 \n"
   ]
  },
  {
   "cell_type": "code",
   "execution_count": 1,
   "id": "1e0844da",
   "metadata": {
    "ExecuteTime": {
     "end_time": "2022-12-30T05:37:03.852015Z",
     "start_time": "2022-12-30T05:37:02.918155Z"
    }
   },
   "outputs": [
    {
     "data": {
      "text/plain": [
       "1.959963984540054"
      ]
     },
     "execution_count": 1,
     "metadata": {},
     "output_type": "execute_result"
    }
   ],
   "source": [
    "from scipy import stats  # for z score  x= (c.i + alpha/2)\n",
    "stats.norm.ppf(0.975) "
   ]
  },
  {
   "cell_type": "code",
   "execution_count": 4,
   "id": "f7372fe6",
   "metadata": {
    "ExecuteTime": {
     "end_time": "2022-12-30T05:42:25.142063Z",
     "start_time": "2022-12-30T05:42:25.126677Z"
    }
   },
   "outputs": [
    {
     "data": {
      "text/plain": [
       "600.2279407334571"
      ]
     },
     "execution_count": 4,
     "metadata": {},
     "output_type": "execute_result"
    }
   ],
   "source": [
    "(1.959963984540054*1.959963984540054*0.5*0.5)/(0.04*0.04) "
   ]
  },
  {
   "cell_type": "markdown",
   "id": "c7c2ab2a",
   "metadata": {},
   "source": [
    "# so min 600 "
   ]
  },
  {
   "cell_type": "markdown",
   "id": "6e1e6aba",
   "metadata": {},
   "source": [
    " # 9 "
   ]
  },
  {
   "cell_type": "code",
   "execution_count": null,
   "id": "be28bc77",
   "metadata": {},
   "outputs": [],
   "source": [
    "# "
   ]
  },
  {
   "cell_type": "code",
   "execution_count": 3,
   "id": "dd4e10fc",
   "metadata": {
    "ExecuteTime": {
     "end_time": "2022-12-30T05:41:39.815243Z",
     "start_time": "2022-12-30T05:41:39.799221Z"
    }
   },
   "outputs": [
    {
     "data": {
      "text/plain": [
       "2.3263478740408408"
      ]
     },
     "execution_count": 3,
     "metadata": {},
     "output_type": "execute_result"
    }
   ],
   "source": [
    "from scipy import stats  # for z score  x= (c.i + alpha/2)\n",
    "stats.norm.ppf(0.99) "
   ]
  },
  {
   "cell_type": "markdown",
   "id": "02a7247b",
   "metadata": {},
   "source": [
    "# N=  z^2 (p * 1-p ) / E^2  \n",
    "# Z – z score for 98 % \n",
    "# P is not given , so default value is 0.5 \n",
    "# E is margin of error  = 0.04 \n"
   ]
  },
  {
   "cell_type": "code",
   "execution_count": 5,
   "id": "ab58cd42",
   "metadata": {
    "ExecuteTime": {
     "end_time": "2022-12-30T05:42:49.702132Z",
     "start_time": "2022-12-30T05:42:49.684858Z"
    }
   },
   "outputs": [
    {
     "data": {
      "text/plain": [
       "845.6085048522405"
      ]
     },
     "execution_count": 5,
     "metadata": {},
     "output_type": "execute_result"
    }
   ],
   "source": [
    "(2.3263478740408408*2.3263478740408408*0.5*0.5)/(0.04*0.04) "
   ]
  },
  {
   "cell_type": "markdown",
   "id": "d4966147",
   "metadata": {},
   "source": [
    " # so min 845 "
   ]
  },
  {
   "cell_type": "markdown",
   "id": "8aab39b2",
   "metadata": {},
   "source": [
    "# ---------------------------------------------------------------------------------------------------- "
   ]
  },
  {
   "cell_type": "markdown",
   "id": "92ba631f",
   "metadata": {},
   "source": [
    "# SET 4 "
   ]
  },
  {
   "cell_type": "markdown",
   "id": "56f46dc9",
   "metadata": {},
   "source": [
    "# 3 "
   ]
  },
  {
   "cell_type": "markdown",
   "id": "2f06a522",
   "metadata": {},
   "source": [
    "# Mean of population = 50 , sd of population = 40 \n",
    "# Sample n= 100  \n",
    "# If  sample mean is between 45 & 55 no investigation \n",
    "# For investigation 1 – P( 45&55)\n",
    "\n",
    "\n",
    "# we are considering this as normal distribution "
   ]
  },
  {
   "cell_type": "code",
   "execution_count": 1,
   "id": "ffbc9e65",
   "metadata": {
    "ExecuteTime": {
     "end_time": "2023-01-03T06:15:56.056234Z",
     "start_time": "2023-01-03T06:15:55.865074Z"
    }
   },
   "outputs": [],
   "source": [
    "import numpy as np\n",
    "from scipy import stats\n",
    "from scipy.stats import norm "
   ]
  },
  {
   "cell_type": "code",
   "execution_count": null,
   "id": "8f05a365",
   "metadata": {},
   "outputs": [],
   "source": [
    "# for z score   z= (x-u )/ (s/ root of n )"
   ]
  },
  {
   "cell_type": "code",
   "execution_count": 2,
   "id": "ef3f780b",
   "metadata": {
    "ExecuteTime": {
     "end_time": "2023-01-03T06:18:32.486362Z",
     "start_time": "2023-01-03T06:18:32.471414Z"
    }
   },
   "outputs": [
    {
     "data": {
      "text/plain": [
       "1.25"
      ]
     },
     "execution_count": 2,
     "metadata": {},
     "output_type": "execute_result"
    }
   ],
   "source": [
    "# z score for 55 \n",
    "(55-50)/(40/100**0.5) "
   ]
  },
  {
   "cell_type": "code",
   "execution_count": 4,
   "id": "ebd70bce",
   "metadata": {
    "ExecuteTime": {
     "end_time": "2023-01-03T06:19:28.999369Z",
     "start_time": "2023-01-03T06:19:28.984844Z"
    }
   },
   "outputs": [],
   "source": [
    "# z for 55 =1.25 "
   ]
  },
  {
   "cell_type": "code",
   "execution_count": 3,
   "id": "6c4b5503",
   "metadata": {
    "ExecuteTime": {
     "end_time": "2023-01-03T06:19:12.282936Z",
     "start_time": "2023-01-03T06:19:12.271755Z"
    }
   },
   "outputs": [
    {
     "data": {
      "text/plain": [
       "-1.25"
      ]
     },
     "execution_count": 3,
     "metadata": {},
     "output_type": "execute_result"
    }
   ],
   "source": [
    "# z score for 45 \n",
    "(45-50)/(40/100**0.5) "
   ]
  },
  {
   "cell_type": "code",
   "execution_count": 5,
   "id": "3574e0dd",
   "metadata": {
    "ExecuteTime": {
     "end_time": "2023-01-03T06:19:34.621460Z",
     "start_time": "2023-01-03T06:19:34.607398Z"
    }
   },
   "outputs": [],
   "source": [
    "# z for 55 =-1.25 "
   ]
  },
  {
   "cell_type": "markdown",
   "id": "a1eb3a26",
   "metadata": {},
   "source": [
    "# for probability between 55 & 45 = p(55)-p(45) "
   ]
  },
  {
   "cell_type": "code",
   "execution_count": 6,
   "id": "fd073b31",
   "metadata": {
    "ExecuteTime": {
     "end_time": "2023-01-03T06:21:08.642386Z",
     "start_time": "2023-01-03T06:21:08.618441Z"
    }
   },
   "outputs": [
    {
     "data": {
      "text/plain": [
       "0.7887004526662893"
      ]
     },
     "execution_count": 6,
     "metadata": {},
     "output_type": "execute_result"
    }
   ],
   "source": [
    "stats.norm.cdf(1.25)-stats.norm.cdf(-1.25)"
   ]
  },
  {
   "cell_type": "markdown",
   "id": "9eece39c",
   "metadata": {},
   "source": [
    "# probability for investigation = 1 - p(no investigation )   { 1- ( P(55)-p(45))} "
   ]
  },
  {
   "cell_type": "code",
   "execution_count": 7,
   "id": "d008c902",
   "metadata": {
    "ExecuteTime": {
     "end_time": "2023-01-03T06:23:20.199890Z",
     "start_time": "2023-01-03T06:23:20.184434Z"
    }
   },
   "outputs": [
    {
     "data": {
      "text/plain": [
       "0.2112995473337107"
      ]
     },
     "execution_count": 7,
     "metadata": {},
     "output_type": "execute_result"
    }
   ],
   "source": [
    "1-0.7887004526662893 "
   ]
  },
  {
   "cell_type": "markdown",
   "id": "c3bd1e19",
   "metadata": {},
   "source": [
    "# so probability for investigation is 21.12% "
   ]
  },
  {
   "cell_type": "markdown",
   "id": "b6f08b39",
   "metadata": {},
   "source": [
    "# 4 "
   ]
  },
  {
   "cell_type": "code",
   "execution_count": null,
   "id": "0bb982dd",
   "metadata": {},
   "outputs": [],
   "source": [
    "# Then probability of not investigation is 95 %  as probability of investigation is 5% "
   ]
  },
  {
   "cell_type": "code",
   "execution_count": null,
   "id": "d86cf979",
   "metadata": {},
   "outputs": [],
   "source": [
    "# so we should change the value of sample so that the output of probability between 55 & 45 is 95% \n",
    "# by trial & error "
   ]
  },
  {
   "cell_type": "code",
   "execution_count": 27,
   "id": "db81ba34",
   "metadata": {
    "ExecuteTime": {
     "end_time": "2023-01-03T06:44:44.461160Z",
     "start_time": "2023-01-03T06:44:44.451559Z"
    }
   },
   "outputs": [
    {
     "data": {
      "text/plain": [
       "-1.964529205687714"
      ]
     },
     "execution_count": 27,
     "metadata": {},
     "output_type": "execute_result"
    }
   ],
   "source": [
    "(45-50)/(40/247**0.5) "
   ]
  },
  {
   "cell_type": "code",
   "execution_count": 24,
   "id": "3a29a0fb",
   "metadata": {
    "ExecuteTime": {
     "end_time": "2023-01-03T06:42:55.352402Z",
     "start_time": "2023-01-03T06:42:55.335609Z"
    }
   },
   "outputs": [
    {
     "data": {
      "text/plain": [
       "1.964529205687714"
      ]
     },
     "execution_count": 24,
     "metadata": {},
     "output_type": "execute_result"
    }
   ],
   "source": [
    "(55-50)/(40/247**0.5)  "
   ]
  },
  {
   "cell_type": "code",
   "execution_count": 25,
   "id": "79cd7866",
   "metadata": {
    "ExecuteTime": {
     "end_time": "2023-01-03T06:43:14.094746Z",
     "start_time": "2023-01-03T06:43:14.078711Z"
    }
   },
   "outputs": [
    {
     "data": {
      "text/plain": [
       "0.9505312472313343"
      ]
     },
     "execution_count": 25,
     "metadata": {},
     "output_type": "execute_result"
    }
   ],
   "source": [
    "stats.norm.cdf(1.964529205687714)-stats.norm.cdf(-1.964529205687714)  "
   ]
  },
  {
   "cell_type": "code",
   "execution_count": 26,
   "id": "2bdcb160",
   "metadata": {
    "ExecuteTime": {
     "end_time": "2023-01-03T06:43:40.503963Z",
     "start_time": "2023-01-03T06:43:40.488450Z"
    }
   },
   "outputs": [
    {
     "data": {
      "text/plain": [
       "0.04946875276866569"
      ]
     },
     "execution_count": 26,
     "metadata": {},
     "output_type": "execute_result"
    }
   ],
   "source": [
    "1-0.9505312472313343 "
   ]
  },
  {
   "cell_type": "markdown",
   "id": "83bfff37",
   "metadata": {},
   "source": [
    "# if s is 247 we are getting ~5% for investigation "
   ]
  },
  {
   "cell_type": "code",
   "execution_count": null,
   "id": "6f827634",
   "metadata": {},
   "outputs": [],
   "source": []
  }
 ],
 "metadata": {
  "kernelspec": {
   "display_name": "Python 3 (ipykernel)",
   "language": "python",
   "name": "python3"
  },
  "language_info": {
   "codemirror_mode": {
    "name": "ipython",
    "version": 3
   },
   "file_extension": ".py",
   "mimetype": "text/x-python",
   "name": "python",
   "nbconvert_exporter": "python",
   "pygments_lexer": "ipython3",
   "version": "3.9.13"
  }
 },
 "nbformat": 4,
 "nbformat_minor": 5
}
